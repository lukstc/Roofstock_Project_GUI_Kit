{
 "cells": [
  {
   "cell_type": "markdown",
   "metadata": {},
   "source": [
    "# survival analysis\n",
    "- last modification: 2019-12-05 9PM"
   ]
  },
  {
   "cell_type": "code",
   "execution_count": 41,
   "metadata": {},
   "outputs": [],
   "source": [
    "import pandas as pd"
   ]
  },
  {
   "cell_type": "code",
   "execution_count": 42,
   "metadata": {},
   "outputs": [],
   "source": [
    "dt_70 = pd.read_csv('offer_list_cleaned_70.csv',index_col = 0)\n",
    "dt_75 = pd.read_csv('offer_list_cleaned_75.csv',index_col = 0)\n",
    "dt_80 = pd.read_csv('offer_list_cleaned_80.csv',index_col = 0)\n",
    "dt_85 = pd.read_csv('offer_list_cleaned_85.csv',index_col = 0)\n",
    "dt_90 = pd.read_csv('offer_list_cleaned_90.csv',index_col = 0)\n",
    "dt_95 = pd.read_csv('offer_list_cleaned_95.csv',index_col = 0)"
   ]
  },
  {
   "cell_type": "code",
   "execution_count": 43,
   "metadata": {},
   "outputs": [],
   "source": [
    "#dt_70.head(10)"
   ]
  },
  {
   "cell_type": "code",
   "execution_count": 44,
   "metadata": {
    "scrolled": false
   },
   "outputs": [
    {
     "data": {
      "text/plain": [
       "LIST_ID                         0\n",
       "START_TS                        0\n",
       "END_TS                        585\n",
       "LIST_PRICE                      0\n",
       "EST_VALUE                       2\n",
       "OFFER_PRICE                  3122\n",
       "EVENT                           0\n",
       "ISFEATURED                      0\n",
       "OCCUPANCY                       0\n",
       "ISRENTGUARANTEED                0\n",
       "BEDROOMS                        0\n",
       "BATHROOMS                       0\n",
       "NEIGHBORHOODSCORE              51\n",
       "SCHOOLHIGHSCORE                27\n",
       "SCHOOLMIDDLESCORE             116\n",
       "ISEXCLUSIVE                     0\n",
       "COMPUTED_CAP_RATE               0\n",
       "COMPUTED_GROSS_YIELD            0\n",
       "COMPUTEDLEVEREDCASHONCASH       0\n",
       "COMPUTEDTOTALRETURN             0\n",
       "EST_REPAIR_COST               332\n",
       "LEASEMONTHLYRENT                0\n",
       "INSPECTION_TYPE_ID             76\n",
       "dtype: int64"
      ]
     },
     "execution_count": 44,
     "metadata": {},
     "output_type": "execute_result"
    }
   ],
   "source": [
    "dt_70.isna().sum()"
   ]
  },
  {
   "cell_type": "code",
   "execution_count": 45,
   "metadata": {},
   "outputs": [],
   "source": [
    "to_drop_index_na_70 = dt_70[dt_70['EST_VALUE'].isna()==True].index\n",
    "to_drop_index_na_75 = dt_75[dt_75['EST_VALUE'].isna()==True].index\n",
    "to_drop_index_na_80 = dt_80[dt_80['EST_VALUE'].isna()==True].index\n",
    "to_drop_index_na_85 = dt_85[dt_85['EST_VALUE'].isna()==True].index\n",
    "to_drop_index_na_90 = dt_90[dt_90['EST_VALUE'].isna()==True].index\n",
    "to_drop_index_na_95 = dt_95[dt_95['EST_VALUE'].isna()==True].index"
   ]
  },
  {
   "cell_type": "code",
   "execution_count": 46,
   "metadata": {},
   "outputs": [],
   "source": [
    "dt_70 = dt_70.drop(index = to_drop_index_na_70)\n",
    "dt_75 = dt_75.drop(index = to_drop_index_na_75)\n",
    "dt_80 = dt_80.drop(index = to_drop_index_na_80)\n",
    "dt_85 = dt_85.drop(index = to_drop_index_na_85)\n",
    "dt_90 = dt_90.drop(index = to_drop_index_na_90)\n",
    "dt_95 = dt_95.drop(index = to_drop_index_na_95)"
   ]
  },
  {
   "cell_type": "code",
   "execution_count": 47,
   "metadata": {},
   "outputs": [],
   "source": [
    "to_drop_index_0_70 = dt_70[dt_70['EST_VALUE']==0].index\n",
    "to_drop_index_0_75 = dt_75[dt_75['EST_VALUE']==0].index\n",
    "to_drop_index_0_80 = dt_80[dt_80['EST_VALUE']==0].index\n",
    "to_drop_index_0_85 = dt_85[dt_85['EST_VALUE']==0].index\n",
    "to_drop_index_0_90 = dt_90[dt_90['EST_VALUE']==0].index\n",
    "to_drop_index_0_95 = dt_95[dt_95['EST_VALUE']==0].index"
   ]
  },
  {
   "cell_type": "code",
   "execution_count": 48,
   "metadata": {},
   "outputs": [],
   "source": [
    "dt_70 = dt_70.drop(index = to_drop_index_0_70)\n",
    "dt_75 = dt_75.drop(index = to_drop_index_0_75)\n",
    "dt_80 = dt_80.drop(index = to_drop_index_0_80)\n",
    "dt_85 = dt_85.drop(index = to_drop_index_0_85)\n",
    "dt_90 = dt_90.drop(index = to_drop_index_0_90)\n",
    "dt_95 = dt_95.drop(index = to_drop_index_0_95)"
   ]
  },
  {
   "cell_type": "code",
   "execution_count": 49,
   "metadata": {
    "scrolled": true
   },
   "outputs": [
    {
     "data": {
      "text/plain": [
       "LIST_ID                         0\n",
       "START_TS                        0\n",
       "END_TS                        585\n",
       "LIST_PRICE                      0\n",
       "EST_VALUE                       0\n",
       "OFFER_PRICE                  3120\n",
       "EVENT                           0\n",
       "ISFEATURED                      0\n",
       "OCCUPANCY                       0\n",
       "ISRENTGUARANTEED                0\n",
       "BEDROOMS                        0\n",
       "BATHROOMS                       0\n",
       "NEIGHBORHOODSCORE              50\n",
       "SCHOOLHIGHSCORE                27\n",
       "SCHOOLMIDDLESCORE             115\n",
       "ISEXCLUSIVE                     0\n",
       "COMPUTED_CAP_RATE               0\n",
       "COMPUTED_GROSS_YIELD            0\n",
       "COMPUTEDLEVEREDCASHONCASH       0\n",
       "COMPUTEDTOTALRETURN             0\n",
       "EST_REPAIR_COST               331\n",
       "LEASEMONTHLYRENT                0\n",
       "INSPECTION_TYPE_ID             75\n",
       "dtype: int64"
      ]
     },
     "execution_count": 49,
     "metadata": {},
     "output_type": "execute_result"
    }
   ],
   "source": [
    "dt_70.isna().sum()"
   ]
  },
  {
   "cell_type": "code",
   "execution_count": 50,
   "metadata": {},
   "outputs": [
    {
     "data": {
      "text/html": [
       "<div>\n",
       "<style scoped>\n",
       "    .dataframe tbody tr th:only-of-type {\n",
       "        vertical-align: middle;\n",
       "    }\n",
       "\n",
       "    .dataframe tbody tr th {\n",
       "        vertical-align: top;\n",
       "    }\n",
       "\n",
       "    .dataframe thead th {\n",
       "        text-align: right;\n",
       "    }\n",
       "</style>\n",
       "<table border=\"1\" class=\"dataframe\">\n",
       "  <thead>\n",
       "    <tr style=\"text-align: right;\">\n",
       "      <th></th>\n",
       "      <th>LIST_ID</th>\n",
       "      <th>START_TS</th>\n",
       "      <th>END_TS</th>\n",
       "      <th>LIST_PRICE</th>\n",
       "      <th>EST_VALUE</th>\n",
       "      <th>OFFER_PRICE</th>\n",
       "      <th>EVENT</th>\n",
       "      <th>ISFEATURED</th>\n",
       "      <th>OCCUPANCY</th>\n",
       "      <th>ISRENTGUARANTEED</th>\n",
       "      <th>...</th>\n",
       "      <th>SCHOOLHIGHSCORE</th>\n",
       "      <th>SCHOOLMIDDLESCORE</th>\n",
       "      <th>ISEXCLUSIVE</th>\n",
       "      <th>COMPUTED_CAP_RATE</th>\n",
       "      <th>COMPUTED_GROSS_YIELD</th>\n",
       "      <th>COMPUTEDLEVEREDCASHONCASH</th>\n",
       "      <th>COMPUTEDTOTALRETURN</th>\n",
       "      <th>EST_REPAIR_COST</th>\n",
       "      <th>LEASEMONTHLYRENT</th>\n",
       "      <th>INSPECTION_TYPE_ID</th>\n",
       "    </tr>\n",
       "  </thead>\n",
       "  <tbody>\n",
       "  </tbody>\n",
       "</table>\n",
       "<p>0 rows × 23 columns</p>\n",
       "</div>"
      ],
      "text/plain": [
       "Empty DataFrame\n",
       "Columns: [LIST_ID, START_TS, END_TS, LIST_PRICE, EST_VALUE, OFFER_PRICE, EVENT, ISFEATURED, OCCUPANCY, ISRENTGUARANTEED, BEDROOMS, BATHROOMS, NEIGHBORHOODSCORE, SCHOOLHIGHSCORE, SCHOOLMIDDLESCORE, ISEXCLUSIVE, COMPUTED_CAP_RATE, COMPUTED_GROSS_YIELD, COMPUTEDLEVEREDCASHONCASH, COMPUTEDTOTALRETURN, EST_REPAIR_COST, LEASEMONTHLYRENT, INSPECTION_TYPE_ID]\n",
       "Index: []\n",
       "\n",
       "[0 rows x 23 columns]"
      ]
     },
     "execution_count": 50,
     "metadata": {},
     "output_type": "execute_result"
    }
   ],
   "source": [
    "dt_70[dt_70['EST_VALUE']==0]"
   ]
  },
  {
   "cell_type": "code",
   "execution_count": 51,
   "metadata": {
    "scrolled": true
   },
   "outputs": [
    {
     "data": {
      "text/plain": [
       "count      4500\n",
       "unique        2\n",
       "top       False\n",
       "freq       3120\n",
       "Name: EVENT, dtype: object"
      ]
     },
     "execution_count": 51,
     "metadata": {},
     "output_type": "execute_result"
    }
   ],
   "source": [
    "dt_70['EVENT'].describe()"
   ]
  },
  {
   "cell_type": "code",
   "execution_count": 52,
   "metadata": {},
   "outputs": [],
   "source": [
    "from lifelines.utils import datetimes_to_durations"
   ]
  },
  {
   "cell_type": "code",
   "execution_count": 53,
   "metadata": {},
   "outputs": [],
   "source": [
    "start_date_70 = dt_70['START_TS']\n",
    "start_date_75 = dt_75['START_TS']\n",
    "start_date_80 = dt_80['START_TS']\n",
    "start_date_85 = dt_85['START_TS']\n",
    "start_date_90 = dt_90['START_TS']\n",
    "start_date_95 = dt_95['START_TS']"
   ]
  },
  {
   "cell_type": "code",
   "execution_count": 54,
   "metadata": {},
   "outputs": [],
   "source": [
    "end_date_70 = dt_70['END_TS']\n",
    "end_date_75 = dt_75['END_TS']\n",
    "end_date_80 = dt_80['END_TS']\n",
    "end_date_85 = dt_85['END_TS']\n",
    "end_date_90 = dt_90['END_TS']\n",
    "end_date_95 = dt_95['END_TS']"
   ]
  },
  {
   "cell_type": "code",
   "execution_count": 55,
   "metadata": {
    "scrolled": true
   },
   "outputs": [
    {
     "data": {
      "text/plain": [
       "'2019-10-11 16:03:07'"
      ]
     },
     "execution_count": 55,
     "metadata": {},
     "output_type": "execute_result"
    }
   ],
   "source": [
    "dt_70['START_TS'].max()"
   ]
  },
  {
   "cell_type": "code",
   "execution_count": 56,
   "metadata": {},
   "outputs": [],
   "source": [
    "T_70, E_70 = datetimes_to_durations(start_date_70, end_date_70, freq=\"D\",fill_date='2019-10-11 16:03:07')\n",
    "T_75, E_75 = datetimes_to_durations(start_date_75, end_date_75, freq=\"D\",fill_date='2019-10-11 16:03:07')\n",
    "T_80, E_80 = datetimes_to_durations(start_date_80, end_date_80, freq=\"D\",fill_date='2019-10-11 16:03:07')\n",
    "T_85, E_85 = datetimes_to_durations(start_date_85, end_date_85, freq=\"D\",fill_date='2019-10-11 16:03:07')\n",
    "T_90, E_90 = datetimes_to_durations(start_date_90, end_date_90, freq=\"D\",fill_date='2019-10-11 16:03:07')\n",
    "T_95, E_95 = datetimes_to_durations(start_date_95, end_date_95, freq=\"D\",fill_date='2019-10-11 16:03:07')"
   ]
  },
  {
   "cell_type": "code",
   "execution_count": 57,
   "metadata": {},
   "outputs": [],
   "source": [
    "dt_70['DOM'] = T_70\n",
    "dt_75['DOM'] = T_75\n",
    "dt_80['DOM'] = T_80\n",
    "dt_85['DOM'] = T_85\n",
    "dt_90['DOM'] = T_90\n",
    "dt_95['DOM'] = T_95"
   ]
  },
  {
   "cell_type": "code",
   "execution_count": 58,
   "metadata": {},
   "outputs": [],
   "source": [
    "dt_70['PERC'] = (dt_70['LIST_PRICE']/dt_70['EST_VALUE']-1)*100\n",
    "dt_75['PERC'] = (dt_75['LIST_PRICE']/dt_75['EST_VALUE']-1)*100\n",
    "dt_80['PERC'] = (dt_80['LIST_PRICE']/dt_80['EST_VALUE']-1)*100\n",
    "dt_85['PERC'] = (dt_85['LIST_PRICE']/dt_85['EST_VALUE']-1)*100\n",
    "dt_90['PERC'] = (dt_90['LIST_PRICE']/dt_90['EST_VALUE']-1)*100\n",
    "dt_95['PERC'] = (dt_95['LIST_PRICE']/dt_95['EST_VALUE']-1)*100"
   ]
  },
  {
   "cell_type": "code",
   "execution_count": 59,
   "metadata": {},
   "outputs": [],
   "source": [
    "#dt_70.head()"
   ]
  },
  {
   "cell_type": "code",
   "execution_count": 60,
   "metadata": {},
   "outputs": [
    {
     "data": {
      "text/plain": [
       "array([[<matplotlib.axes._subplots.AxesSubplot object at 0x1a1f35aeb8>]],\n",
       "      dtype=object)"
      ]
     },
     "execution_count": 60,
     "metadata": {},
     "output_type": "execute_result"
    },
    {
     "data": {
      "image/png": "[encoded data removed]",
      "text/plain": [
       "<Figure size 432x288 with 1 Axes>"
      ]
     },
     "metadata": {
      "needs_background": "light"
     },
     "output_type": "display_data"
    }
   ],
   "source": [
    "dt_70.hist('DOM',bins=20)"
   ]
  },
  {
   "cell_type": "code",
   "execution_count": 61,
   "metadata": {},
   "outputs": [],
   "source": [
    "#dt_70.hist('DOM',bins=20,by='EVENT')"
   ]
  },
  {
   "cell_type": "code",
   "execution_count": 62,
   "metadata": {},
   "outputs": [],
   "source": [
    "#dt_70[dt_70['EVENT']==True].hist('DOM',bins=20)"
   ]
  },
  {
   "cell_type": "code",
   "execution_count": 63,
   "metadata": {},
   "outputs": [],
   "source": [
    "# dt_70[(dt_70['EVENT']==True) & (dt_70['DOM']>=200)]"
   ]
  },
  {
   "cell_type": "code",
   "execution_count": 64,
   "metadata": {},
   "outputs": [],
   "source": [
    "#dt_70[dt_70['EVENT']==True].describe() "
   ]
  },
  {
   "cell_type": "code",
   "execution_count": 65,
   "metadata": {},
   "outputs": [],
   "source": [
    "list(dt_70.columns)\n",
    "selected_cols = [\n",
    "    'LIST_PRICE',\n",
    "#    'EST_VALUE',\n",
    "    'EVENT',\n",
    "    'ISFEATURED',\n",
    "#    'OCCUPANCY',\n",
    "    'ISRENTGUARANTEED',\n",
    "#    'BEDROOMS',\n",
    "#    'BATHROOMS',\n",
    "    'NEIGHBORHOODSCORE',\n",
    "#    'SCHOOLHIGHSCORE',\n",
    "#    'SCHOOLMIDDLESCORE',\n",
    "#    'ISEXCLUSIVE',\n",
    "#    'COMPUTED_CAP_RATE',\n",
    "#    'COMPUTED_GROSS_YIELD',\n",
    "    'COMPUTEDLEVEREDCASHONCASH',\n",
    "   'COMPUTEDTOTALRETURN',\n",
    "   'EST_REPAIR_COST',\n",
    "#   'LEASEMONTHLYRENT',\n",
    "    'DOM',\n",
    "    'PERC'\n",
    "]"
   ]
  },
  {
   "cell_type": "code",
   "execution_count": 66,
   "metadata": {},
   "outputs": [],
   "source": [
    "dt_70_f = dt_70[selected_cols]\n",
    "dt_75_f = dt_75[selected_cols]\n",
    "dt_80_f = dt_80[selected_cols]\n",
    "dt_85_f = dt_85[selected_cols]\n",
    "dt_90_f = dt_90[selected_cols]\n",
    "dt_95_f = dt_95[selected_cols]"
   ]
  },
  {
   "cell_type": "code",
   "execution_count": 67,
   "metadata": {
    "scrolled": true
   },
   "outputs": [],
   "source": [
    "dt_70_f = dt_70_f.loc[dt_70_f['DOM']<=360]\n",
    "dt_75_f = dt_75_f.loc[dt_75_f['DOM']<=360]\n",
    "dt_80_f = dt_80_f.loc[dt_80_f['DOM']<=360]\n",
    "dt_85_f = dt_85_f.loc[dt_85_f['DOM']<=360]\n",
    "dt_90_f = dt_90_f.loc[dt_90_f['DOM']<=360]\n",
    "dt_95_f = dt_95_f.loc[dt_95_f['DOM']<=360]"
   ]
  },
  {
   "cell_type": "code",
   "execution_count": 68,
   "metadata": {},
   "outputs": [
    {
     "data": {
      "text/html": [
       "<div>\n",
       "<style scoped>\n",
       "    .dataframe tbody tr th:only-of-type {\n",
       "        vertical-align: middle;\n",
       "    }\n",
       "\n",
       "    .dataframe tbody tr th {\n",
       "        vertical-align: top;\n",
       "    }\n",
       "\n",
       "    .dataframe thead th {\n",
       "        text-align: right;\n",
       "    }\n",
       "</style>\n",
       "<table border=\"1\" class=\"dataframe\">\n",
       "  <thead>\n",
       "    <tr style=\"text-align: right;\">\n",
       "      <th></th>\n",
       "      <th>LIST_PRICE</th>\n",
       "      <th>EVENT</th>\n",
       "      <th>ISFEATURED</th>\n",
       "      <th>ISRENTGUARANTEED</th>\n",
       "      <th>NEIGHBORHOODSCORE</th>\n",
       "      <th>COMPUTEDLEVEREDCASHONCASH</th>\n",
       "      <th>COMPUTEDTOTALRETURN</th>\n",
       "      <th>EST_REPAIR_COST</th>\n",
       "      <th>DOM</th>\n",
       "      <th>PERC</th>\n",
       "    </tr>\n",
       "  </thead>\n",
       "  <tbody>\n",
       "    <tr>\n",
       "      <th>0</th>\n",
       "      <td>163000.0</td>\n",
       "      <td>True</td>\n",
       "      <td>True</td>\n",
       "      <td>False</td>\n",
       "      <td>2.0</td>\n",
       "      <td>0.03</td>\n",
       "      <td>40074.54</td>\n",
       "      <td>150.0</td>\n",
       "      <td>24.0</td>\n",
       "      <td>1.139212</td>\n",
       "    </tr>\n",
       "    <tr>\n",
       "      <th>1</th>\n",
       "      <td>171990.0</td>\n",
       "      <td>False</td>\n",
       "      <td>False</td>\n",
       "      <td>False</td>\n",
       "      <td>4.0</td>\n",
       "      <td>-0.04</td>\n",
       "      <td>27608.63</td>\n",
       "      <td>240.0</td>\n",
       "      <td>31.0</td>\n",
       "      <td>-0.005814</td>\n",
       "    </tr>\n",
       "    <tr>\n",
       "      <th>2</th>\n",
       "      <td>144059.0</td>\n",
       "      <td>False</td>\n",
       "      <td>False</td>\n",
       "      <td>False</td>\n",
       "      <td>4.0</td>\n",
       "      <td>-0.02</td>\n",
       "      <td>23421.59</td>\n",
       "      <td>0.0</td>\n",
       "      <td>11.0</td>\n",
       "      <td>33.387963</td>\n",
       "    </tr>\n",
       "    <tr>\n",
       "      <th>3</th>\n",
       "      <td>156000.0</td>\n",
       "      <td>False</td>\n",
       "      <td>False</td>\n",
       "      <td>False</td>\n",
       "      <td>3.0</td>\n",
       "      <td>-0.04</td>\n",
       "      <td>23896.34</td>\n",
       "      <td>525.0</td>\n",
       "      <td>31.0</td>\n",
       "      <td>1.298701</td>\n",
       "    </tr>\n",
       "    <tr>\n",
       "      <th>4</th>\n",
       "      <td>198275.0</td>\n",
       "      <td>False</td>\n",
       "      <td>False</td>\n",
       "      <td>False</td>\n",
       "      <td>3.0</td>\n",
       "      <td>-0.01</td>\n",
       "      <td>37697.36</td>\n",
       "      <td>150.0</td>\n",
       "      <td>31.0</td>\n",
       "      <td>3.163454</td>\n",
       "    </tr>\n",
       "  </tbody>\n",
       "</table>\n",
       "</div>"
      ],
      "text/plain": [
       "   LIST_PRICE  EVENT  ISFEATURED  ISRENTGUARANTEED  NEIGHBORHOODSCORE  \\\n",
       "0    163000.0   True        True             False                2.0   \n",
       "1    171990.0  False       False             False                4.0   \n",
       "2    144059.0  False       False             False                4.0   \n",
       "3    156000.0  False       False             False                3.0   \n",
       "4    198275.0  False       False             False                3.0   \n",
       "\n",
       "   COMPUTEDLEVEREDCASHONCASH  COMPUTEDTOTALRETURN  EST_REPAIR_COST   DOM  \\\n",
       "0                       0.03             40074.54            150.0  24.0   \n",
       "1                      -0.04             27608.63            240.0  31.0   \n",
       "2                      -0.02             23421.59              0.0  11.0   \n",
       "3                      -0.04             23896.34            525.0  31.0   \n",
       "4                      -0.01             37697.36            150.0  31.0   \n",
       "\n",
       "        PERC  \n",
       "0   1.139212  \n",
       "1  -0.005814  \n",
       "2  33.387963  \n",
       "3   1.298701  \n",
       "4   3.163454  "
      ]
     },
     "execution_count": 68,
     "metadata": {},
     "output_type": "execute_result"
    }
   ],
   "source": [
    "dt_70_f.head()"
   ]
  },
  {
   "cell_type": "code",
   "execution_count": 69,
   "metadata": {},
   "outputs": [],
   "source": [
    "from lifelines import KaplanMeierFitter"
   ]
  },
  {
   "cell_type": "code",
   "execution_count": 70,
   "metadata": {},
   "outputs": [],
   "source": [
    "kmf_70 = KaplanMeierFitter()\n",
    "kmf_75 = KaplanMeierFitter()\n",
    "kmf_80 = KaplanMeierFitter()\n",
    "kmf_85 = KaplanMeierFitter()\n",
    "kmf_90 = KaplanMeierFitter()\n",
    "kmf_95 = KaplanMeierFitter()"
   ]
  },
  {
   "cell_type": "code",
   "execution_count": 71,
   "metadata": {},
   "outputs": [
    {
     "data": {
      "text/plain": [
       "<lifelines.KaplanMeierFitter: fitted with 4260 total observations, 3601 right-censored observations>"
      ]
     },
     "execution_count": 71,
     "metadata": {},
     "output_type": "execute_result"
    }
   ],
   "source": [
    "kmf_70.fit(dt_70_f['DOM'], event_observed=dt_70_f['EVENT'])\n",
    "kmf_75.fit(dt_75_f['DOM'], event_observed=dt_75_f['EVENT'])\n",
    "kmf_80.fit(dt_80_f['DOM'], event_observed=dt_80_f['EVENT'])\n",
    "kmf_85.fit(dt_85_f['DOM'], event_observed=dt_85_f['EVENT'])\n",
    "kmf_90.fit(dt_90_f['DOM'], event_observed=dt_90_f['EVENT'])\n",
    "kmf_95.fit(dt_95_f['DOM'], event_observed=dt_95_f['EVENT'])"
   ]
  },
  {
   "cell_type": "code",
   "execution_count": 72,
   "metadata": {},
   "outputs": [],
   "source": [
    "#kmf.survival_function_"
   ]
  },
  {
   "cell_type": "code",
   "execution_count": 73,
   "metadata": {},
   "outputs": [],
   "source": [
    "#kmf.cumulative_density_"
   ]
  },
  {
   "cell_type": "code",
   "execution_count": 74,
   "metadata": {},
   "outputs": [
    {
     "name": "stdout",
     "output_type": "stream",
     "text": [
      "90.0\n",
      "109.0\n",
      "146.0\n",
      "171.0\n",
      "321.0\n",
      "inf\n"
     ]
    }
   ],
   "source": [
    "for model in [kmf_70,kmf_75,kmf_80,kmf_85,kmf_90,kmf_95]:\n",
    "    print(model.median_survival_time_)"
   ]
  },
  {
   "cell_type": "code",
   "execution_count": 75,
   "metadata": {},
   "outputs": [
    {
     "data": {
      "text/plain": [
       "<matplotlib.axes._subplots.AxesSubplot at 0x1a1f49bda0>"
      ]
     },
     "execution_count": 75,
     "metadata": {},
     "output_type": "execute_result"
    },
    {
     "data": {
      "image/png": "[encoded data removed]",
      "text/plain": [
       "<Figure size 432x288 with 1 Axes>"
      ]
     },
     "metadata": {
      "needs_background": "light"
     },
     "output_type": "display_data"
    }
   ],
   "source": [
    "kmf_70.plot_survival_function()"
   ]
  },
  {
   "cell_type": "code",
   "execution_count": 76,
   "metadata": {},
   "outputs": [
    {
     "data": {
      "text/plain": [
       "<matplotlib.axes._subplots.AxesSubplot at 0x1a1df2d2e8>"
      ]
     },
     "execution_count": 76,
     "metadata": {},
     "output_type": "execute_result"
    },
    {
     "data": {
      "image/png": "[encoded data removed]",
      "text/plain": [
       "<Figure size 432x288 with 1 Axes>"
      ]
     },
     "metadata": {
      "needs_background": "light"
     },
     "output_type": "display_data"
    }
   ],
   "source": [
    "kmf_95.plot_survival_function()"
   ]
  },
  {
   "cell_type": "code",
   "execution_count": 77,
   "metadata": {
    "scrolled": true
   },
   "outputs": [],
   "source": [
    "# kmf.plot_cumulative_density()"
   ]
  },
  {
   "cell_type": "code",
   "execution_count": 78,
   "metadata": {
    "scrolled": false
   },
   "outputs": [],
   "source": [
    "#dt_70_f.isna().sum()"
   ]
  },
  {
   "cell_type": "code",
   "execution_count": 79,
   "metadata": {},
   "outputs": [],
   "source": [
    "#dt_70_f.shape"
   ]
  },
  {
   "cell_type": "code",
   "execution_count": 80,
   "metadata": {},
   "outputs": [],
   "source": [
    "#dt_70_f.corr()"
   ]
  },
  {
   "cell_type": "code",
   "execution_count": 81,
   "metadata": {
    "scrolled": true
   },
   "outputs": [
    {
     "data": {
      "image/png": "[encoded data removed]",
      "text/plain": [
       "<Figure size 288x288 with 1 Axes>"
      ]
     },
     "metadata": {
      "needs_background": "light"
     },
     "output_type": "display_data"
    }
   ],
   "source": [
    "import matplotlib.pyplot as plt\n",
    "plt.matshow(dt_70.corr())\n",
    "plt.show()"
   ]
  },
  {
   "cell_type": "code",
   "execution_count": 82,
   "metadata": {},
   "outputs": [],
   "source": [
    "# corr = dt_70_f.corr()\n",
    "# corr"
   ]
  },
  {
   "cell_type": "code",
   "execution_count": 83,
   "metadata": {},
   "outputs": [],
   "source": [
    "from lifelines import CoxPHFitter"
   ]
  },
  {
   "cell_type": "code",
   "execution_count": 84,
   "metadata": {},
   "outputs": [],
   "source": [
    "dt_70_f = dt_70_f.dropna(axis=0,how='any')\n",
    "dt_75_f = dt_75_f.dropna(axis=0,how='any')\n",
    "dt_80_f = dt_80_f.dropna(axis=0,how='any')\n",
    "dt_85_f = dt_85_f.dropna(axis=0,how='any')\n",
    "dt_90_f = dt_90_f.dropna(axis=0,how='any')\n",
    "dt_95_f = dt_95_f.dropna(axis=0,how='any')"
   ]
  },
  {
   "cell_type": "code",
   "execution_count": 85,
   "metadata": {},
   "outputs": [],
   "source": [
    "# dt_70_f['EVENT'] = dt_70_f['EVENT'].astype('int')"
   ]
  },
  {
   "cell_type": "code",
   "execution_count": null,
   "metadata": {},
   "outputs": [],
   "source": []
  },
  {
   "cell_type": "code",
   "execution_count": 86,
   "metadata": {
    "scrolled": true
   },
   "outputs": [
    {
     "data": {
      "text/plain": [
       "LIST_PRICE                   float64\n",
       "EVENT                           bool\n",
       "ISFEATURED                      bool\n",
       "ISRENTGUARANTEED                bool\n",
       "NEIGHBORHOODSCORE            float64\n",
       "COMPUTEDLEVEREDCASHONCASH    float64\n",
       "COMPUTEDTOTALRETURN          float64\n",
       "EST_REPAIR_COST              float64\n",
       "DOM                          float64\n",
       "PERC                         float64\n",
       "dtype: object"
      ]
     },
     "execution_count": 86,
     "metadata": {},
     "output_type": "execute_result"
    }
   ],
   "source": [
    "dt_70_f.dtypes"
   ]
  },
  {
   "cell_type": "code",
   "execution_count": 87,
   "metadata": {
    "scrolled": false
   },
   "outputs": [],
   "source": [
    "#cph = CoxPHFitter(penalizer=0.1)\n",
    "cph_70 = CoxPHFitter()\n",
    "cph_75 = CoxPHFitter()\n",
    "cph_80 = CoxPHFitter()\n",
    "cph_85 = CoxPHFitter()\n",
    "cph_90 = CoxPHFitter()\n",
    "cph_95 = CoxPHFitter()"
   ]
  },
  {
   "cell_type": "code",
   "execution_count": 88,
   "metadata": {},
   "outputs": [
    {
     "data": {
      "text/plain": [
       "<lifelines.CoxPHFitter: fitted with 3930 total observations, 3328 right-censored observations>"
      ]
     },
     "execution_count": 88,
     "metadata": {},
     "output_type": "execute_result"
    }
   ],
   "source": [
    "cph_70.fit(dt_70_f, 'DOM', event_col='EVENT')\n",
    "cph_75.fit(dt_75_f, 'DOM', event_col='EVENT')\n",
    "cph_80.fit(dt_80_f, 'DOM', event_col='EVENT')\n",
    "cph_85.fit(dt_85_f, 'DOM', event_col='EVENT')\n",
    "cph_90.fit(dt_90_f, 'DOM', event_col='EVENT')\n",
    "cph_95.fit(dt_95_f, 'DOM', event_col='EVENT')"
   ]
  },
  {
   "cell_type": "code",
   "execution_count": 89,
   "metadata": {},
   "outputs": [],
   "source": [
    "#cph.summary"
   ]
  },
  {
   "cell_type": "code",
   "execution_count": 90,
   "metadata": {},
   "outputs": [
    {
     "name": "stdout",
     "output_type": "stream",
     "text": [
      "<lifelines.CoxPHFitter: fitted with 4004 total observations, 2750 right-censored observations>\n",
      "             duration col = 'DOM'\n",
      "                event col = 'EVENT'\n",
      "   number of observations = 4004\n",
      "number of events observed = 1254\n",
      "   partial log-likelihood = -9441.66\n",
      "         time fit was run = 2019-12-07 20:44:01 UTC\n",
      "\n",
      "---\n",
      "                            coef  exp(coef)   se(coef)   coef lower 95%   coef upper 95%  exp(coef) lower 95%  exp(coef) upper 95%\n",
      "LIST_PRICE                 -0.00       1.00       0.00            -0.00            -0.00                 1.00                 1.00\n",
      "ISFEATURED                  0.53       1.70       0.14             0.27             0.80                 1.31                 2.22\n",
      "ISRENTGUARANTEED            0.02       1.02       0.07            -0.11             0.15                 0.89                 1.16\n",
      "NEIGHBORHOODSCORE           0.26       1.30       0.04             0.19             0.34                 1.21                 1.40\n",
      "COMPUTEDLEVEREDCASHONCASH  12.13   1.85e+05       1.58             9.03            15.23              8308.61             4.13e+06\n",
      "COMPUTEDTOTALRETURN        -0.00       1.00       0.00            -0.00             0.00                 1.00                 1.00\n",
      "EST_REPAIR_COST            -0.00       1.00       0.00            -0.00            -0.00                 1.00                 1.00\n",
      "PERC                       -0.00       1.00       0.00            -0.01             0.00                 0.99                 1.00\n",
      "\n",
      "                              z      p   -log2(p)\n",
      "LIST_PRICE                -2.29   0.02       5.52\n",
      "ISFEATURED                 3.93 <0.005      13.51\n",
      "ISRENTGUARANTEED           0.24   0.81       0.30\n",
      "NEIGHBORHOODSCORE          6.81 <0.005      36.62\n",
      "COMPUTEDLEVEREDCASHONCASH  7.66 <0.005      45.60\n",
      "COMPUTEDTOTALRETURN       -0.55   0.58       0.78\n",
      "EST_REPAIR_COST           -3.05 <0.005       8.78\n",
      "PERC                      -1.60   0.11       3.19\n",
      "---\n",
      "Concordance = 0.65\n",
      "Log-likelihood ratio test = 199.16 on 8 df, -log2(p)=126.29\n"
     ]
    }
   ],
   "source": [
    "cph_70.print_summary()"
   ]
  },
  {
   "cell_type": "code",
   "execution_count": 91,
   "metadata": {},
   "outputs": [
    {
     "name": "stdout",
     "output_type": "stream",
     "text": [
      "<lifelines.CoxPHFitter: fitted with 4006 total observations, 2773 right-censored observations>\n",
      "             duration col = 'DOM'\n",
      "                event col = 'EVENT'\n",
      "   number of observations = 4006\n",
      "number of events observed = 1233\n",
      "   partial log-likelihood = -9287.49\n",
      "         time fit was run = 2019-12-07 20:44:01 UTC\n",
      "\n",
      "---\n",
      "                            coef  exp(coef)   se(coef)   coef lower 95%   coef upper 95%  exp(coef) lower 95%  exp(coef) upper 95%\n",
      "LIST_PRICE                 -0.00       1.00       0.00            -0.00            -0.00                 1.00                 1.00\n",
      "ISFEATURED                  0.55       1.74       0.14             0.29             0.82                 1.33                 2.27\n",
      "ISRENTGUARANTEED            0.04       1.04       0.07            -0.09             0.17                 0.91                 1.19\n",
      "NEIGHBORHOODSCORE           0.26       1.30       0.04             0.19             0.34                 1.21                 1.41\n",
      "COMPUTEDLEVEREDCASHONCASH  12.05   1.71e+05       1.60             8.91            15.19              7386.14             3.96e+06\n",
      "COMPUTEDTOTALRETURN        -0.00       1.00       0.00            -0.00             0.00                 1.00                 1.00\n",
      "EST_REPAIR_COST            -0.00       1.00       0.00            -0.00            -0.00                 1.00                 1.00\n",
      "PERC                       -0.00       1.00       0.00            -0.01             0.00                 0.99                 1.00\n",
      "\n",
      "                              z      p   -log2(p)\n",
      "LIST_PRICE                -2.48   0.01       6.24\n",
      "ISFEATURED                 4.08 <0.005      14.46\n",
      "ISRENTGUARANTEED           0.59   0.55       0.86\n",
      "NEIGHBORHOODSCORE          6.78 <0.005      36.32\n",
      "COMPUTEDLEVEREDCASHONCASH  7.52 <0.005      44.01\n",
      "COMPUTEDTOTALRETURN       -0.49   0.62       0.68\n",
      "EST_REPAIR_COST           -3.12 <0.005       9.12\n",
      "PERC                      -1.75   0.08       3.63\n",
      "---\n",
      "Concordance = 0.65\n",
      "Log-likelihood ratio test = 201.73 on 8 df, -log2(p)=128.09\n"
     ]
    }
   ],
   "source": [
    "cph_75.print_summary()"
   ]
  },
  {
   "cell_type": "code",
   "execution_count": 92,
   "metadata": {},
   "outputs": [
    {
     "name": "stdout",
     "output_type": "stream",
     "text": [
      "<lifelines.CoxPHFitter: fitted with 4005 total observations, 2809 right-censored observations>\n",
      "             duration col = 'DOM'\n",
      "                event col = 'EVENT'\n",
      "   number of observations = 4005\n",
      "number of events observed = 1196\n",
      "   partial log-likelihood = -9021.09\n",
      "         time fit was run = 2019-12-07 20:44:01 UTC\n",
      "\n",
      "---\n",
      "                            coef  exp(coef)   se(coef)   coef lower 95%   coef upper 95%  exp(coef) lower 95%  exp(coef) upper 95%\n",
      "LIST_PRICE                 -0.00       1.00       0.00            -0.00            -0.00                 1.00                 1.00\n",
      "ISFEATURED                  0.58       1.78       0.14             0.31             0.85                 1.36                 2.33\n",
      "ISRENTGUARANTEED            0.07       1.07       0.07            -0.06             0.20                 0.94                 1.22\n",
      "NEIGHBORHOODSCORE           0.27       1.31       0.04             0.19             0.35                 1.21                 1.42\n",
      "COMPUTEDLEVEREDCASHONCASH  12.49   2.66e+05       1.62             9.31            15.68             11012.22             6.43e+06\n",
      "COMPUTEDTOTALRETURN        -0.00       1.00       0.00            -0.00             0.00                 1.00                 1.00\n",
      "EST_REPAIR_COST            -0.00       1.00       0.00            -0.00            -0.00                 1.00                 1.00\n",
      "PERC                       -0.00       1.00       0.00            -0.01             0.00                 0.99                 1.00\n",
      "\n",
      "                              z      p   -log2(p)\n",
      "LIST_PRICE                -2.49   0.01       6.31\n",
      "ISFEATURED                 4.22 <0.005      15.35\n",
      "ISRENTGUARANTEED           1.03   0.30       1.73\n",
      "NEIGHBORHOODSCORE          6.85 <0.005      37.02\n",
      "COMPUTEDLEVEREDCASHONCASH  7.69 <0.005      45.92\n",
      "COMPUTEDTOTALRETURN       -0.39   0.69       0.53\n",
      "EST_REPAIR_COST           -3.32 <0.005      10.13\n",
      "PERC                      -1.72   0.08       3.56\n",
      "---\n",
      "Concordance = 0.65\n",
      "Log-likelihood ratio test = 208.40 on 8 df, -log2(p)=132.76\n"
     ]
    }
   ],
   "source": [
    "cph_80.print_summary()"
   ]
  },
  {
   "cell_type": "code",
   "execution_count": 93,
   "metadata": {},
   "outputs": [
    {
     "name": "stdout",
     "output_type": "stream",
     "text": [
      "<lifelines.CoxPHFitter: fitted with 3930 total observations, 3328 right-censored observations>\n",
      "             duration col = 'DOM'\n",
      "                event col = 'EVENT'\n",
      "   number of observations = 3930\n",
      "number of events observed = 602\n",
      "   partial log-likelihood = -4574.32\n",
      "         time fit was run = 2019-12-07 20:44:02 UTC\n",
      "\n",
      "---\n",
      "                            coef  exp(coef)   se(coef)   coef lower 95%   coef upper 95%  exp(coef) lower 95%  exp(coef) upper 95%\n",
      "LIST_PRICE                 -0.00       1.00       0.00            -0.00            -0.00                 1.00                 1.00\n",
      "ISFEATURED                  0.89       2.43       0.17             0.56             1.21                 1.76                 3.36\n",
      "ISRENTGUARANTEED            0.20       1.22       0.09             0.02             0.38                 1.02                 1.47\n",
      "NEIGHBORHOODSCORE           0.34       1.41       0.05             0.24             0.45                 1.27                 1.57\n",
      "COMPUTEDLEVEREDCASHONCASH   8.19    3615.04       2.61             3.09            13.30                21.89             5.97e+05\n",
      "COMPUTEDTOTALRETURN         0.00       1.00       0.00             0.00             0.00                 1.00                 1.00\n",
      "EST_REPAIR_COST            -0.00       1.00       0.00            -0.00            -0.00                 1.00                 1.00\n",
      "PERC                       -0.00       1.00       0.00            -0.01             0.00                 0.99                 1.00\n",
      "\n",
      "                              z      p   -log2(p)\n",
      "LIST_PRICE                -3.47 <0.005      10.89\n",
      "ISFEATURED                 5.38 <0.005      23.68\n",
      "ISRENTGUARANTEED           2.16   0.03       5.02\n",
      "NEIGHBORHOODSCORE          6.26 <0.005      31.29\n",
      "COMPUTEDLEVEREDCASHONCASH  3.14 <0.005       9.23\n",
      "COMPUTEDTOTALRETURN        2.49   0.01       6.28\n",
      "EST_REPAIR_COST           -4.54 <0.005      17.44\n",
      "PERC                      -0.82   0.41       1.28\n",
      "---\n",
      "Concordance = 0.67\n",
      "Log-likelihood ratio test = 151.04 on 8 df, -log2(p)=92.76\n"
     ]
    }
   ],
   "source": [
    "cph_95.print_summary()"
   ]
  },
  {
   "cell_type": "code",
   "execution_count": 94,
   "metadata": {
    "scrolled": true
   },
   "outputs": [],
   "source": [
    "#cph.score_"
   ]
  },
  {
   "cell_type": "code",
   "execution_count": 95,
   "metadata": {},
   "outputs": [
    {
     "data": {
      "text/plain": [
       "<matplotlib.axes._subplots.AxesSubplot at 0x11ae2d9b0>"
      ]
     },
     "execution_count": 95,
     "metadata": {},
     "output_type": "execute_result"
    },
    {
     "data": {
      "image/png": "[encoded data removed]",
      "text/plain": [
       "<Figure size 864x432 with 1 Axes>"
      ]
     },
     "metadata": {
      "needs_background": "light"
     },
     "output_type": "display_data"
    }
   ],
   "source": [
    "cph_70.plot_covariate_groups('ISFEATURED', [True,False], cmap='coolwarm',figsize=(12,6))"
   ]
  },
  {
   "cell_type": "code",
   "execution_count": 97,
   "metadata": {},
   "outputs": [],
   "source": [
    "my_list = []\n",
    "for num in (range(int(-0.11*100),int(0.2*100),5)):\n",
    "    my_list.append(num/100)"
   ]
  },
  {
   "cell_type": "code",
   "execution_count": 98,
   "metadata": {},
   "outputs": [
    {
     "data": {
      "text/plain": [
       "[-0.11, -0.06, -0.01, 0.04, 0.09, 0.14, 0.19]"
      ]
     },
     "execution_count": 98,
     "metadata": {},
     "output_type": "execute_result"
    }
   ],
   "source": [
    "my_list"
   ]
  },
  {
   "cell_type": "code",
   "execution_count": 99,
   "metadata": {},
   "outputs": [
    {
     "data": {
      "text/plain": [
       "<matplotlib.axes._subplots.AxesSubplot at 0x11b5a12b0>"
      ]
     },
     "execution_count": 99,
     "metadata": {},
     "output_type": "execute_result"
    },
    {
     "data": {
      "image/png": "[encoded data removed]",
      "text/plain": [
       "<Figure size 864x432 with 1 Axes>"
      ]
     },
     "metadata": {
      "needs_background": "light"
     },
     "output_type": "display_data"
    }
   ],
   "source": [
    "cph_70.plot_covariate_groups('COMPUTEDLEVEREDCASHONCASH', my_list, cmap='coolwarm',figsize=(12,6))"
   ]
  },
  {
   "cell_type": "code",
   "execution_count": 101,
   "metadata": {},
   "outputs": [],
   "source": [
    "from lifelines.utils import k_fold_cross_validation"
   ]
  },
  {
   "cell_type": "markdown",
   "metadata": {},
   "source": [
    "(fitters, df, duration_col, event_col=None, k=5, evaluation_measure=<function concordance_index>, predictor='predict_expectation', predictor_kwargs={}, fitter_kwargs={})"
   ]
  },
  {
   "cell_type": "code",
   "execution_count": 102,
   "metadata": {
    "scrolled": true
   },
   "outputs": [],
   "source": [
    "score = k_fold_cross_validation(\n",
    "    CoxPHFitter(),\n",
    "    df=dt_70_f,\n",
    "    duration_col='DOM',\n",
    "    event_col='EVENT',\n",
    "    k=5\n",
    ")"
   ]
  },
  {
   "cell_type": "code",
   "execution_count": 103,
   "metadata": {},
   "outputs": [
    {
     "data": {
      "text/plain": [
       "[0.6620516258799866,\n",
       " 0.6436994124655903,\n",
       " 0.6463721337931826,\n",
       " 0.6283840273049309,\n",
       " 0.6376848736369574]"
      ]
     },
     "execution_count": 103,
     "metadata": {},
     "output_type": "execute_result"
    }
   ],
   "source": [
    "score"
   ]
  },
  {
   "cell_type": "code",
   "execution_count": 104,
   "metadata": {},
   "outputs": [
    {
     "data": {
      "text/html": [
       "<div>\n",
       "<style scoped>\n",
       "    .dataframe tbody tr th:only-of-type {\n",
       "        vertical-align: middle;\n",
       "    }\n",
       "\n",
       "    .dataframe tbody tr th {\n",
       "        vertical-align: top;\n",
       "    }\n",
       "\n",
       "    .dataframe thead th {\n",
       "        text-align: right;\n",
       "    }\n",
       "</style>\n",
       "<table border=\"1\" class=\"dataframe\">\n",
       "  <thead>\n",
       "    <tr style=\"text-align: right;\">\n",
       "      <th></th>\n",
       "      <th>0</th>\n",
       "      <th>1</th>\n",
       "      <th>2</th>\n",
       "      <th>3</th>\n",
       "      <th>4</th>\n",
       "      <th>5</th>\n",
       "      <th>6</th>\n",
       "      <th>7</th>\n",
       "      <th>8</th>\n",
       "      <th>9</th>\n",
       "      <th>...</th>\n",
       "      <th>4493</th>\n",
       "      <th>4494</th>\n",
       "      <th>4495</th>\n",
       "      <th>4496</th>\n",
       "      <th>4497</th>\n",
       "      <th>4498</th>\n",
       "      <th>4499</th>\n",
       "      <th>4500</th>\n",
       "      <th>4501</th>\n",
       "      <th>4502</th>\n",
       "    </tr>\n",
       "  </thead>\n",
       "  <tbody>\n",
       "    <tr>\n",
       "      <th>30.0</th>\n",
       "      <td>0.424994</td>\n",
       "      <td>0.179144</td>\n",
       "      <td>0.22367</td>\n",
       "      <td>0.142936</td>\n",
       "      <td>0.178396</td>\n",
       "      <td>0.236545</td>\n",
       "      <td>0.281115</td>\n",
       "      <td>0.130238</td>\n",
       "      <td>0.242285</td>\n",
       "      <td>0.265154</td>\n",
       "      <td>...</td>\n",
       "      <td>0.904695</td>\n",
       "      <td>0.514222</td>\n",
       "      <td>0.61745</td>\n",
       "      <td>0.563615</td>\n",
       "      <td>0.711685</td>\n",
       "      <td>0.729783</td>\n",
       "      <td>0.417411</td>\n",
       "      <td>0.493524</td>\n",
       "      <td>0.388291</td>\n",
       "      <td>0.439755</td>\n",
       "    </tr>\n",
       "  </tbody>\n",
       "</table>\n",
       "<p>1 rows × 4004 columns</p>\n",
       "</div>"
      ],
      "text/plain": [
       "          0         1        2         3         4         5         6     \\\n",
       "30.0  0.424994  0.179144  0.22367  0.142936  0.178396  0.236545  0.281115   \n",
       "\n",
       "          7         8         9     ...      4493      4494     4495  \\\n",
       "30.0  0.130238  0.242285  0.265154  ...  0.904695  0.514222  0.61745   \n",
       "\n",
       "          4496      4497      4498      4499      4500      4501      4502  \n",
       "30.0  0.563615  0.711685  0.729783  0.417411  0.493524  0.388291  0.439755  \n",
       "\n",
       "[1 rows x 4004 columns]"
      ]
     },
     "execution_count": 104,
     "metadata": {},
     "output_type": "execute_result"
    }
   ],
   "source": [
    "cph_70.predict_cumulative_hazard(dt_70_f,30)"
   ]
  },
  {
   "cell_type": "code",
   "execution_count": 105,
   "metadata": {},
   "outputs": [],
   "source": [
    "# 1-cph_70.predict_survival_function(dt_70_f,360)"
   ]
  },
  {
   "cell_type": "code",
   "execution_count": 106,
   "metadata": {},
   "outputs": [],
   "source": [
    "# cph_70.predict_expectation(dt_70_f)"
   ]
  },
  {
   "cell_type": "code",
   "execution_count": 107,
   "metadata": {
    "scrolled": true
   },
   "outputs": [],
   "source": [
    "# cph_70.predict_partial_hazard(dt_70_f)"
   ]
  },
  {
   "cell_type": "code",
   "execution_count": 108,
   "metadata": {},
   "outputs": [],
   "source": [
    "# cph_70.predict_percentile(dt_70_f,0.9)"
   ]
  },
  {
   "cell_type": "code",
   "execution_count": null,
   "metadata": {},
   "outputs": [],
   "source": []
  },
  {
   "cell_type": "code",
   "execution_count": 109,
   "metadata": {},
   "outputs": [],
   "source": [
    "user_input = [\n",
    "    {\n",
    "        'LIST_PRICE':100000,\n",
    "        'ISFEATURED':False,\n",
    "        'ISRENTGUARANTEED':True,\n",
    "        'NEIGHBORHOODSCORE':4,\n",
    "        'COMPUTEDLEVEREDCASHONCASH':0.09,\n",
    "        'COMPUTEDTOTALRETURN':1000,\n",
    "        'EST_REPAIR_COST':2000,\n",
    "        'PERC':20\n",
    "    }\n",
    "]"
   ]
  },
  {
   "cell_type": "code",
   "execution_count": null,
   "metadata": {},
   "outputs": [],
   "source": []
  },
  {
   "cell_type": "code",
   "execution_count": 110,
   "metadata": {},
   "outputs": [],
   "source": [
    "user_input = pd.DataFrame(user_input)"
   ]
  },
  {
   "cell_type": "code",
   "execution_count": 111,
   "metadata": {
    "scrolled": true
   },
   "outputs": [
    {
     "data": {
      "text/html": [
       "<div>\n",
       "<style scoped>\n",
       "    .dataframe tbody tr th:only-of-type {\n",
       "        vertical-align: middle;\n",
       "    }\n",
       "\n",
       "    .dataframe tbody tr th {\n",
       "        vertical-align: top;\n",
       "    }\n",
       "\n",
       "    .dataframe thead th {\n",
       "        text-align: right;\n",
       "    }\n",
       "</style>\n",
       "<table border=\"1\" class=\"dataframe\">\n",
       "  <thead>\n",
       "    <tr style=\"text-align: right;\">\n",
       "      <th></th>\n",
       "      <th>COMPUTEDLEVEREDCASHONCASH</th>\n",
       "      <th>COMPUTEDTOTALRETURN</th>\n",
       "      <th>EST_REPAIR_COST</th>\n",
       "      <th>ISFEATURED</th>\n",
       "      <th>ISRENTGUARANTEED</th>\n",
       "      <th>LIST_PRICE</th>\n",
       "      <th>NEIGHBORHOODSCORE</th>\n",
       "      <th>PERC</th>\n",
       "    </tr>\n",
       "  </thead>\n",
       "  <tbody>\n",
       "    <tr>\n",
       "      <th>0</th>\n",
       "      <td>0.09</td>\n",
       "      <td>1000</td>\n",
       "      <td>2000</td>\n",
       "      <td>False</td>\n",
       "      <td>True</td>\n",
       "      <td>100000</td>\n",
       "      <td>4</td>\n",
       "      <td>20</td>\n",
       "    </tr>\n",
       "  </tbody>\n",
       "</table>\n",
       "</div>"
      ],
      "text/plain": [
       "   COMPUTEDLEVEREDCASHONCASH  COMPUTEDTOTALRETURN  EST_REPAIR_COST  \\\n",
       "0                       0.09                 1000             2000   \n",
       "\n",
       "   ISFEATURED  ISRENTGUARANTEED  LIST_PRICE  NEIGHBORHOODSCORE  PERC  \n",
       "0       False              True      100000                  4    20  "
      ]
     },
     "execution_count": 111,
     "metadata": {},
     "output_type": "execute_result"
    }
   ],
   "source": [
    "user_input"
   ]
  },
  {
   "cell_type": "code",
   "execution_count": null,
   "metadata": {},
   "outputs": [],
   "source": []
  },
  {
   "cell_type": "code",
   "execution_count": 112,
   "metadata": {},
   "outputs": [
    {
     "data": {
      "text/html": [
       "<div>\n",
       "<style scoped>\n",
       "    .dataframe tbody tr th:only-of-type {\n",
       "        vertical-align: middle;\n",
       "    }\n",
       "\n",
       "    .dataframe tbody tr th {\n",
       "        vertical-align: top;\n",
       "    }\n",
       "\n",
       "    .dataframe thead th {\n",
       "        text-align: right;\n",
       "    }\n",
       "</style>\n",
       "<table border=\"1\" class=\"dataframe\">\n",
       "  <thead>\n",
       "    <tr style=\"text-align: right;\">\n",
       "      <th></th>\n",
       "      <th>0</th>\n",
       "    </tr>\n",
       "  </thead>\n",
       "  <tbody>\n",
       "    <tr>\n",
       "      <th>30.0</th>\n",
       "      <td>0.624006</td>\n",
       "    </tr>\n",
       "  </tbody>\n",
       "</table>\n",
       "</div>"
      ],
      "text/plain": [
       "             0\n",
       "30.0  0.624006"
      ]
     },
     "execution_count": 112,
     "metadata": {},
     "output_type": "execute_result"
    }
   ],
   "source": [
    "1-cph_70.predict_survival_function(user_input,30)"
   ]
  },
  {
   "cell_type": "code",
   "execution_count": 113,
   "metadata": {},
   "outputs": [
    {
     "data": {
      "text/html": [
       "<div>\n",
       "<style scoped>\n",
       "    .dataframe tbody tr th:only-of-type {\n",
       "        vertical-align: middle;\n",
       "    }\n",
       "\n",
       "    .dataframe tbody tr th {\n",
       "        vertical-align: top;\n",
       "    }\n",
       "\n",
       "    .dataframe thead th {\n",
       "        text-align: right;\n",
       "    }\n",
       "</style>\n",
       "<table border=\"1\" class=\"dataframe\">\n",
       "  <thead>\n",
       "    <tr style=\"text-align: right;\">\n",
       "      <th></th>\n",
       "      <th>0</th>\n",
       "    </tr>\n",
       "  </thead>\n",
       "  <tbody>\n",
       "    <tr>\n",
       "      <th>30.0</th>\n",
       "      <td>0.616368</td>\n",
       "    </tr>\n",
       "  </tbody>\n",
       "</table>\n",
       "</div>"
      ],
      "text/plain": [
       "             0\n",
       "30.0  0.616368"
      ]
     },
     "execution_count": 113,
     "metadata": {},
     "output_type": "execute_result"
    }
   ],
   "source": [
    "1-cph_75.predict_survival_function(user_input,30)"
   ]
  },
  {
   "cell_type": "code",
   "execution_count": 114,
   "metadata": {},
   "outputs": [
    {
     "data": {
      "text/html": [
       "<div>\n",
       "<style scoped>\n",
       "    .dataframe tbody tr th:only-of-type {\n",
       "        vertical-align: middle;\n",
       "    }\n",
       "\n",
       "    .dataframe tbody tr th {\n",
       "        vertical-align: top;\n",
       "    }\n",
       "\n",
       "    .dataframe thead th {\n",
       "        text-align: right;\n",
       "    }\n",
       "</style>\n",
       "<table border=\"1\" class=\"dataframe\">\n",
       "  <thead>\n",
       "    <tr style=\"text-align: right;\">\n",
       "      <th></th>\n",
       "      <th>0</th>\n",
       "    </tr>\n",
       "  </thead>\n",
       "  <tbody>\n",
       "    <tr>\n",
       "      <th>30.0</th>\n",
       "      <td>0.611918</td>\n",
       "    </tr>\n",
       "  </tbody>\n",
       "</table>\n",
       "</div>"
      ],
      "text/plain": [
       "             0\n",
       "30.0  0.611918"
      ]
     },
     "execution_count": 114,
     "metadata": {},
     "output_type": "execute_result"
    }
   ],
   "source": [
    "1-cph_80.predict_survival_function(user_input,30)"
   ]
  },
  {
   "cell_type": "code",
   "execution_count": 115,
   "metadata": {
    "scrolled": true
   },
   "outputs": [
    {
     "data": {
      "text/html": [
       "<div>\n",
       "<style scoped>\n",
       "    .dataframe tbody tr th:only-of-type {\n",
       "        vertical-align: middle;\n",
       "    }\n",
       "\n",
       "    .dataframe tbody tr th {\n",
       "        vertical-align: top;\n",
       "    }\n",
       "\n",
       "    .dataframe thead th {\n",
       "        text-align: right;\n",
       "    }\n",
       "</style>\n",
       "<table border=\"1\" class=\"dataframe\">\n",
       "  <thead>\n",
       "    <tr style=\"text-align: right;\">\n",
       "      <th></th>\n",
       "      <th>0</th>\n",
       "    </tr>\n",
       "  </thead>\n",
       "  <tbody>\n",
       "    <tr>\n",
       "      <th>30.0</th>\n",
       "      <td>0.513396</td>\n",
       "    </tr>\n",
       "  </tbody>\n",
       "</table>\n",
       "</div>"
      ],
      "text/plain": [
       "             0\n",
       "30.0  0.513396"
      ]
     },
     "execution_count": 115,
     "metadata": {},
     "output_type": "execute_result"
    }
   ],
   "source": [
    "1-cph_90.predict_survival_function(user_input,30)"
   ]
  },
  {
   "cell_type": "code",
   "execution_count": 116,
   "metadata": {},
   "outputs": [
    {
     "data": {
      "text/html": [
       "<div>\n",
       "<style scoped>\n",
       "    .dataframe tbody tr th:only-of-type {\n",
       "        vertical-align: middle;\n",
       "    }\n",
       "\n",
       "    .dataframe tbody tr th {\n",
       "        vertical-align: top;\n",
       "    }\n",
       "\n",
       "    .dataframe thead th {\n",
       "        text-align: right;\n",
       "    }\n",
       "</style>\n",
       "<table border=\"1\" class=\"dataframe\">\n",
       "  <thead>\n",
       "    <tr style=\"text-align: right;\">\n",
       "      <th></th>\n",
       "      <th>0</th>\n",
       "    </tr>\n",
       "  </thead>\n",
       "  <tbody>\n",
       "    <tr>\n",
       "      <th>30.0</th>\n",
       "      <td>0.23908</td>\n",
       "    </tr>\n",
       "  </tbody>\n",
       "</table>\n",
       "</div>"
      ],
      "text/plain": [
       "            0\n",
       "30.0  0.23908"
      ]
     },
     "execution_count": 116,
     "metadata": {},
     "output_type": "execute_result"
    }
   ],
   "source": [
    "1-cph_95.predict_survival_function(user_input,30)"
   ]
  },
  {
   "cell_type": "code",
   "execution_count": 117,
   "metadata": {},
   "outputs": [
    {
     "data": {
      "text/html": [
       "<div>\n",
       "<style scoped>\n",
       "    .dataframe tbody tr th:only-of-type {\n",
       "        vertical-align: middle;\n",
       "    }\n",
       "\n",
       "    .dataframe tbody tr th {\n",
       "        vertical-align: top;\n",
       "    }\n",
       "\n",
       "    .dataframe thead th {\n",
       "        text-align: right;\n",
       "    }\n",
       "</style>\n",
       "<table border=\"1\" class=\"dataframe\">\n",
       "  <thead>\n",
       "    <tr style=\"text-align: right;\">\n",
       "      <th></th>\n",
       "      <th>0</th>\n",
       "    </tr>\n",
       "  </thead>\n",
       "  <tbody>\n",
       "    <tr>\n",
       "      <th>30.0</th>\n",
       "      <td>0.76092</td>\n",
       "    </tr>\n",
       "  </tbody>\n",
       "</table>\n",
       "</div>"
      ],
      "text/plain": [
       "            0\n",
       "30.0  0.76092"
      ]
     },
     "execution_count": 117,
     "metadata": {},
     "output_type": "execute_result"
    }
   ],
   "source": [
    "cph_95.predict_survival_function(user_input,30)"
   ]
  },
  {
   "cell_type": "code",
   "execution_count": 118,
   "metadata": {
    "scrolled": true
   },
   "outputs": [
    {
     "data": {
      "text/plain": [
       "30.0"
      ]
     },
     "execution_count": 118,
     "metadata": {},
     "output_type": "execute_result"
    }
   ],
   "source": [
    "cph_95.predict_percentile(user_input,0.76092)"
   ]
  },
  {
   "cell_type": "code",
   "execution_count": 119,
   "metadata": {},
   "outputs": [],
   "source": [
    "import pickle"
   ]
  },
  {
   "cell_type": "code",
   "execution_count": null,
   "metadata": {},
   "outputs": [],
   "source": []
  },
  {
   "cell_type": "code",
   "execution_count": 121,
   "metadata": {},
   "outputs": [],
   "source": [
    "pickle.dump(cph_70, open('model_70.sav', 'wb'))\n",
    "pickle.dump(cph_75, open('model_75.sav', 'wb'))\n",
    "pickle.dump(cph_80, open('model_80.sav', 'wb'))\n",
    "pickle.dump(cph_85, open('model_85.sav', 'wb'))\n",
    "pickle.dump(cph_90, open('model_90.sav', 'wb'))\n",
    "pickle.dump(cph_95, open('model_95.sav', 'wb'))"
   ]
  },
  {
   "cell_type": "code",
   "execution_count": null,
   "metadata": {},
   "outputs": [],
   "source": [
    "dt_70_f['PERC'].min()"
   ]
  },
  {
   "cell_type": "code",
   "execution_count": 119,
   "metadata": {},
   "outputs": [
    {
     "data": {
      "text/plain": [
       "166.21887287024904"
      ]
     },
     "execution_count": 119,
     "metadata": {},
     "output_type": "execute_result"
    }
   ],
   "source": [
    "dt_70_f['PERC'].max()"
   ]
  },
  {
   "cell_type": "code",
   "execution_count": 64,
   "metadata": {},
   "outputs": [],
   "source": [
    "test_dt = dt_70_f[dt_70_f['EVENT']==1]"
   ]
  },
  {
   "cell_type": "code",
   "execution_count": 112,
   "metadata": {},
   "outputs": [],
   "source": [
    "# test_dt.shape"
   ]
  },
  {
   "cell_type": "code",
   "execution_count": 111,
   "metadata": {},
   "outputs": [],
   "source": [
    "#test_dt.head(20)"
   ]
  },
  {
   "cell_type": "code",
   "execution_count": null,
   "metadata": {},
   "outputs": [],
   "source": [
    "# cph.predict_partial_hazard(test_dt)\n",
    "# cph.predict_survival_function(test_dt)\n",
    "#dt_70_f[['DOM','EVENT']].head(10)"
   ]
  },
  {
   "cell_type": "code",
   "execution_count": 89,
   "metadata": {},
   "outputs": [
    {
     "data": {
      "text/html": [
       "<div>\n",
       "<style scoped>\n",
       "    .dataframe tbody tr th:only-of-type {\n",
       "        vertical-align: middle;\n",
       "    }\n",
       "\n",
       "    .dataframe tbody tr th {\n",
       "        vertical-align: top;\n",
       "    }\n",
       "\n",
       "    .dataframe thead th {\n",
       "        text-align: right;\n",
       "    }\n",
       "</style>\n",
       "<table border=\"1\" class=\"dataframe\">\n",
       "  <thead>\n",
       "    <tr style=\"text-align: right;\">\n",
       "      <th></th>\n",
       "      <th>0.5</th>\n",
       "    </tr>\n",
       "  </thead>\n",
       "  <tbody>\n",
       "    <tr>\n",
       "      <th>0</th>\n",
       "      <td>True</td>\n",
       "    </tr>\n",
       "    <tr>\n",
       "      <th>1</th>\n",
       "      <td>False</td>\n",
       "    </tr>\n",
       "    <tr>\n",
       "      <th>2</th>\n",
       "      <td>False</td>\n",
       "    </tr>\n",
       "    <tr>\n",
       "      <th>3</th>\n",
       "      <td>False</td>\n",
       "    </tr>\n",
       "    <tr>\n",
       "      <th>4</th>\n",
       "      <td>False</td>\n",
       "    </tr>\n",
       "  </tbody>\n",
       "</table>\n",
       "</div>"
      ],
      "text/plain": [
       "     0.5\n",
       "0   True\n",
       "1  False\n",
       "2  False\n",
       "3  False\n",
       "4  False"
      ]
     },
     "execution_count": 89,
     "metadata": {},
     "output_type": "execute_result"
    }
   ],
   "source": [
    "cph_70.predict_median(dt_70_f).replace([np.inf, -np.inf], np.nan).notna().head()\n",
    "#cph.predict_percentile(test_dt,0.7)"
   ]
  },
  {
   "cell_type": "code",
   "execution_count": 90,
   "metadata": {},
   "outputs": [],
   "source": [
    "# test_dt = dt_70_f['EVENT']"
   ]
  },
  {
   "cell_type": "code",
   "execution_count": 91,
   "metadata": {},
   "outputs": [
    {
     "data": {
      "text/plain": [
       "0        True\n",
       "1       False\n",
       "2       False\n",
       "3       False\n",
       "4       False\n",
       "5       False\n",
       "6       False\n",
       "7       False\n",
       "8       False\n",
       "9       False\n",
       "12      False\n",
       "16      False\n",
       "17       True\n",
       "18      False\n",
       "19      False\n",
       "20      False\n",
       "21      False\n",
       "22      False\n",
       "23      False\n",
       "25       True\n",
       "26       True\n",
       "27      False\n",
       "28      False\n",
       "30       True\n",
       "32      False\n",
       "35       True\n",
       "38      False\n",
       "41       True\n",
       "43       True\n",
       "44      False\n",
       "        ...  \n",
       "4472    False\n",
       "4473    False\n",
       "4474    False\n",
       "4475    False\n",
       "4476    False\n",
       "4477    False\n",
       "4478    False\n",
       "4479    False\n",
       "4480    False\n",
       "4481    False\n",
       "4482    False\n",
       "4483    False\n",
       "4484    False\n",
       "4485    False\n",
       "4487    False\n",
       "4488    False\n",
       "4489    False\n",
       "4490    False\n",
       "4491    False\n",
       "4492    False\n",
       "4493    False\n",
       "4494    False\n",
       "4495    False\n",
       "4496    False\n",
       "4497    False\n",
       "4498    False\n",
       "4499    False\n",
       "4500    False\n",
       "4501    False\n",
       "4502    False\n",
       "Name: EVENT, Length: 4004, dtype: bool"
      ]
     },
     "execution_count": 91,
     "metadata": {},
     "output_type": "execute_result"
    }
   ],
   "source": [
    "# test_dt"
   ]
  },
  {
   "cell_type": "code",
   "execution_count": 88,
   "metadata": {},
   "outputs": [],
   "source": [
    "# cph_70.predict_median(dt_70_f).head()"
   ]
  },
  {
   "cell_type": "code",
   "execution_count": 71,
   "metadata": {},
   "outputs": [],
   "source": []
  },
  {
   "cell_type": "code",
   "execution_count": null,
   "metadata": {
    "scrolled": true
   },
   "outputs": [],
   "source": []
  },
  {
   "cell_type": "code",
   "execution_count": null,
   "metadata": {},
   "outputs": [],
   "source": []
  },
  {
   "cell_type": "code",
   "execution_count": null,
   "metadata": {},
   "outputs": [],
   "source": []
  },
  {
   "cell_type": "code",
   "execution_count": null,
   "metadata": {
    "scrolled": true
   },
   "outputs": [],
   "source": [
    "for num in range(1,101,10):\n",
    "    print(num/100)\n",
    "    test = cph.predict_percentile(test_dt,p=num/100)\n",
    "    test = test.replace([np.inf, -np.inf], np.nan)\n",
    "    print((sum((test_dt['DOM'] - test)**2)/len(test.dropna()))**(1/2))"
   ]
  },
  {
   "cell_type": "code",
   "execution_count": null,
   "metadata": {},
   "outputs": [],
   "source": [
    "for num in range(1,101):\n",
    "    print(num/100)\n",
    "    print(cph.predict_percentile(test_dt,num/100).mean())"
   ]
  },
  {
   "cell_type": "code",
   "execution_count": null,
   "metadata": {},
   "outputs": [],
   "source": [
    "test = cph.predict_percentile(test_dt,0.1)"
   ]
  },
  {
   "cell_type": "code",
   "execution_count": null,
   "metadata": {},
   "outputs": [],
   "source": []
  },
  {
   "cell_type": "code",
   "execution_count": null,
   "metadata": {},
   "outputs": [],
   "source": [
    "test"
   ]
  },
  {
   "cell_type": "code",
   "execution_count": null,
   "metadata": {},
   "outputs": [],
   "source": [
    "cph.plot()"
   ]
  },
  {
   "cell_type": "code",
   "execution_count": null,
   "metadata": {},
   "outputs": [],
   "source": [
    "cph.predict_cumulative_hazard(dt_70_f)"
   ]
  },
  {
   "cell_type": "code",
   "execution_count": null,
   "metadata": {},
   "outputs": [],
   "source": [
    "cph.cumulativ"
   ]
  },
  {
   "cell_type": "code",
   "execution_count": null,
   "metadata": {},
   "outputs": [],
   "source": []
  }
 ],
 "metadata": {
  "kernelspec": {
   "display_name": "Python 3",
   "language": "python",
   "name": "python3"
  },
  "language_info": {
   "codemirror_mode": {
    "name": "ipython",
    "version": 3
   },
   "file_extension": ".py",
   "mimetype": "text/x-python",
   "name": "python",
   "nbconvert_exporter": "python",
   "pygments_lexer": "ipython3",
   "version": "3.7.3"
  }
 },
 "nbformat": 4,
 "nbformat_minor": 2
}
